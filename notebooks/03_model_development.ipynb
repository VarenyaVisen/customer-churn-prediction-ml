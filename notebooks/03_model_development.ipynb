{
 "cells": [
  {
   "cell_type": "markdown",
   "id": "ace011a6",
   "metadata": {},
   "source": [
    "#### Importing Libraries"
   ]
  },
  {
   "cell_type": "code",
   "execution_count": 1,
   "id": "450d568e",
   "metadata": {},
   "outputs": [
    {
     "name": "stdout",
     "output_type": "stream",
     "text": [
      "Model Development Started\n"
     ]
    }
   ],
   "source": [
    "# Model Development - Customer Churn Prediction\n",
    "import pandas as pd\n",
    "import numpy as np\n",
    "from sklearn.model_selection import train_test_split, cross_val_score\n",
    "from sklearn.linear_model import LogisticRegression\n",
    "from sklearn.ensemble import RandomForestClassifier\n",
    "from sklearn.metrics import classification_report, confusion_matrix, roc_auc_score\n",
    "from imblearn.over_sampling import SMOTE\n",
    "import xgboost as xgb\n",
    "import lightgbm as lgb\n",
    "import joblib\n",
    "import warnings\n",
    "warnings.filterwarnings('ignore')\n",
    "\n",
    "print(\"Model Development Started\")"
   ]
  },
  {
   "cell_type": "markdown",
   "id": "87072e5b",
   "metadata": {},
   "source": [
    "#### Load Processed Data"
   ]
  },
  {
   "cell_type": "code",
   "execution_count": null,
   "id": "21635f25",
   "metadata": {},
   "outputs": [
    {
     "name": "stdout",
     "output_type": "stream",
     "text": [
      "Dataset shape: (7043, 30)\n",
      "Features: 29\n",
      "Target distribution:\n",
      "Churn_binary\n",
      "0    5174\n",
      "1    1869\n",
      "Name: count, dtype: int64\n"
     ]
    }
   ],
   "source": [
    "# Load processed data\n",
    "df = pd.read_csv('../data/processed/telco_churn_final_processed.csv')\n",
    "print(f\"Dataset shape: {df.shape}\")\n",
    "\n",
    "# Prepare features and target\n",
    "X = df.drop('Churn_binary', axis=1) # Feature \n",
    "y = df['Churn_binary'] # Target\n",
    "\n",
    "print(f\"Features: {X.shape[1]}\")\n",
    "print(f\"Target distribution:\")\n",
    "print(y.value_counts())"
   ]
  },
  {
   "cell_type": "markdown",
   "id": "11fcb13b",
   "metadata": {},
   "source": [
    "#### Train-Test Split"
   ]
  },
  {
   "cell_type": "code",
   "execution_count": 3,
   "id": "740dab41",
   "metadata": {},
   "outputs": [
    {
     "name": "stdout",
     "output_type": "stream",
     "text": [
      "Training set: (5634, 29)\n",
      "Test set: (1409, 29)\n",
      "Train target distribution: Churn_binary\n",
      "0    4139\n",
      "1    1495\n",
      "Name: count, dtype: int64\n"
     ]
    }
   ],
   "source": [
    "# Split data\n",
    "X_train, X_test, y_train, y_test = train_test_split(\n",
    "    X, y, test_size=0.2, random_state=42, stratify=y\n",
    ")\n",
    "\n",
    "print(f\"Training set: {X_train.shape}\")\n",
    "print(f\"Test set: {X_test.shape}\")\n",
    "print(f\"Train target distribution: {y_train.value_counts()}\")"
   ]
  },
  {
   "cell_type": "markdown",
   "id": "2fc5d1ae",
   "metadata": {},
   "source": [
    "#### Handle Class Imbalance"
   ]
  },
  {
   "cell_type": "code",
   "execution_count": 4,
   "id": "e03ff91d",
   "metadata": {},
   "outputs": [
    {
     "name": "stdout",
     "output_type": "stream",
     "text": [
      "Original training shape: (5634, 29)\n",
      "Balanced training shape: (8278, 29)\n",
      "Balanced target distribution:\n",
      "Churn_binary\n",
      "0    4139\n",
      "1    4139\n",
      "Name: count, dtype: int64\n"
     ]
    }
   ],
   "source": [
    "# Apply SMOTE to balance classes\n",
    "smote = SMOTE(random_state=42)\n",
    "X_train_balanced, y_train_balanced = smote.fit_resample(X_train, y_train)\n",
    "\n",
    "print(f\"Original training shape: {X_train.shape}\")\n",
    "print(f\"Balanced training shape: {X_train_balanced.shape}\")\n",
    "print(f\"Balanced target distribution:\")\n",
    "print(pd.Series(y_train_balanced).value_counts())"
   ]
  },
  {
   "cell_type": "markdown",
   "id": "06761074",
   "metadata": {},
   "source": [
    "#### Initialize Models\n"
   ]
  },
  {
   "cell_type": "code",
   "execution_count": 5,
   "id": "3811d717",
   "metadata": {},
   "outputs": [
    {
     "name": "stdout",
     "output_type": "stream",
     "text": [
      "Models to train: ['Logistic Regression', 'Random Forest', 'XGBoost', 'LightGBM']\n"
     ]
    }
   ],
   "source": [
    "# Define models to test\n",
    "models = {\n",
    "    'Logistic Regression': LogisticRegression(random_state=42, max_iter=1000),\n",
    "    'Random Forest': RandomForestClassifier(random_state=42, n_estimators=100),\n",
    "    'XGBoost': xgb.XGBClassifier(random_state=42, eval_metric='logloss'),\n",
    "    'LightGBM': lgb.LGBMClassifier(random_state=42, verbose=-1)\n",
    "}\n",
    "\n",
    "print(f\"Models to train: {list(models.keys())}\")"
   ]
  },
  {
   "cell_type": "markdown",
   "id": "63eee882",
   "metadata": {},
   "source": [
    "#### Train and Evaluate Models"
   ]
  },
  {
   "cell_type": "code",
   "execution_count": 6,
   "id": "de76a7ee",
   "metadata": {},
   "outputs": [
    {
     "name": "stdout",
     "output_type": "stream",
     "text": [
      "Training Logistic Regression...\n",
      "ROC AUC: 0.8426\n",
      "CV Score: 0.8485 ± 0.0133\n",
      "------------------------------\n",
      "Training Random Forest...\n",
      "ROC AUC: 0.8222\n",
      "CV Score: 0.8229 ± 0.0121\n",
      "------------------------------\n",
      "Training XGBoost...\n",
      "ROC AUC: 0.8099\n",
      "CV Score: 0.8213 ± 0.0104\n",
      "------------------------------\n",
      "Training LightGBM...\n",
      "ROC AUC: 0.8273\n",
      "CV Score: 0.8312 ± 0.0138\n",
      "------------------------------\n"
     ]
    }
   ],
   "source": [
    "# Train models and collect results\n",
    "results = {}\n",
    "\n",
    "for name, model in models.items():\n",
    "    print(f\"Training {name}...\")\n",
    "    \n",
    "    # Train on balanced data\n",
    "    model.fit(X_train_balanced, y_train_balanced)\n",
    "    \n",
    "    # Predict on test data\n",
    "    y_pred = model.predict(X_test)\n",
    "    y_pred_proba = model.predict_proba(X_test)[:, 1]\n",
    "    \n",
    "    # Calculate metrics\n",
    "    roc_auc = roc_auc_score(y_test, y_pred_proba)\n",
    "    \n",
    "    # Cross-validation\n",
    "    cv_scores = cross_val_score(model, X_train, y_train, cv=5, scoring='roc_auc')\n",
    "    \n",
    "    # Store results\n",
    "    results[name] = {\n",
    "        'model': model,\n",
    "        'roc_auc': roc_auc,\n",
    "        'cv_mean': cv_scores.mean(),\n",
    "        'cv_std': cv_scores.std(),\n",
    "        'y_pred': y_pred,\n",
    "        'y_pred_proba': y_pred_proba\n",
    "    }\n",
    "    \n",
    "    print(f\"ROC AUC: {roc_auc:.4f}\")\n",
    "    print(f\"CV Score: {cv_scores.mean():.4f} ± {cv_scores.std():.4f}\")\n",
    "    print(\"-\" * 30)"
   ]
  },
  {
   "cell_type": "markdown",
   "id": "4bf969c5",
   "metadata": {},
   "source": [
    "#### Compare Model Performance"
   ]
  },
  {
   "cell_type": "code",
   "execution_count": 7,
   "id": "14dd9928",
   "metadata": {},
   "outputs": [
    {
     "name": "stdout",
     "output_type": "stream",
     "text": [
      "Model Performance Comparison:\n",
      "                 Model   ROC_AUC   CV_Mean    CV_Std\n",
      "0  Logistic Regression  0.842639  0.848497  0.013337\n",
      "3             LightGBM  0.827278  0.831208  0.013766\n",
      "1        Random Forest  0.822187  0.822893  0.012126\n",
      "2              XGBoost  0.809940  0.821297  0.010363\n",
      "\n",
      "Best Model: Logistic Regression\n"
     ]
    }
   ],
   "source": [
    "# Create comparison table\n",
    "comparison_df = pd.DataFrame({\n",
    "    'Model': list(results.keys()),\n",
    "    'ROC_AUC': [results[name]['roc_auc'] for name in results.keys()],\n",
    "    'CV_Mean': [results[name]['cv_mean'] for name in results.keys()],\n",
    "    'CV_Std': [results[name]['cv_std'] for name in results.keys()]\n",
    "})\n",
    "\n",
    "comparison_df = comparison_df.sort_values('ROC_AUC', ascending=False)\n",
    "print(\"Model Performance Comparison:\")\n",
    "print(comparison_df)\n",
    "\n",
    "# Identify best model\n",
    "best_model_name = comparison_df.iloc[0]['Model']\n",
    "best_model = results[best_model_name]['model']\n",
    "print(f\"\\nBest Model: {best_model_name}\")"
   ]
  },
  {
   "cell_type": "markdown",
   "id": "a32d746c",
   "metadata": {},
   "source": [
    "####  Detailed Best Model Analysis"
   ]
  },
  {
   "cell_type": "code",
   "execution_count": 8,
   "id": "42912510",
   "metadata": {},
   "outputs": [
    {
     "name": "stdout",
     "output_type": "stream",
     "text": [
      "Detailed Results for Logistic Regression:\n",
      "========================================\n",
      "              precision    recall  f1-score   support\n",
      "\n",
      "           0       0.88      0.82      0.85      1035\n",
      "           1       0.57      0.69      0.63       374\n",
      "\n",
      "    accuracy                           0.78      1409\n",
      "   macro avg       0.73      0.75      0.74      1409\n",
      "weighted avg       0.80      0.78      0.79      1409\n",
      "\n",
      "\n",
      "Confusion Matrix:\n",
      "[[844 191]\n",
      " [117 257]]\n"
     ]
    }
   ],
   "source": [
    "# Detailed evaluation of best model\n",
    "print(f\"Detailed Results for {best_model_name}:\")\n",
    "print(\"=\" * 40)\n",
    "\n",
    "# Classification report\n",
    "print(classification_report(y_test, results[best_model_name]['y_pred']))\n",
    "\n",
    "# Confusion matrix\n",
    "cm = confusion_matrix(y_test, results[best_model_name]['y_pred'])\n",
    "print(f\"\\nConfusion Matrix:\")\n",
    "print(cm)"
   ]
  },
  {
   "cell_type": "markdown",
   "id": "5b17efce",
   "metadata": {},
   "source": [
    "#### Feature Importance Analysis"
   ]
  },
  {
   "cell_type": "code",
   "execution_count": 9,
   "id": "ccaf150c",
   "metadata": {},
   "outputs": [
    {
     "name": "stdout",
     "output_type": "stream",
     "text": [
      "Feature importance not available for this model type\n"
     ]
    }
   ],
   "source": [
    "# Feature importance (for tree-based models)\n",
    "if hasattr(best_model, 'feature_importances_'):\n",
    "    feature_importance = pd.DataFrame({\n",
    "        'feature': X.columns,\n",
    "        'importance': best_model.feature_importances_\n",
    "    }).sort_values('importance', ascending=False)\n",
    "    \n",
    "    print(\"Top 10 Most Important Features:\")\n",
    "    print(feature_importance.head(10))\n",
    "else:\n",
    "    print(\"Feature importance not available for this model type\")"
   ]
  },
  {
   "cell_type": "markdown",
   "id": "fe49f988",
   "metadata": {},
   "source": [
    "####  Save Models and Results"
   ]
  },
  {
   "cell_type": "code",
   "execution_count": 10,
   "id": "89277be9",
   "metadata": {},
   "outputs": [
    {
     "name": "stdout",
     "output_type": "stream",
     "text": [
      "Model Development Complete\n",
      "Best model saved: ../models/best_model_logistic_regression.joblib\n",
      "Results saved: ../reports/model_comparison.csv\n"
     ]
    }
   ],
   "source": [
    "# Create directories\n",
    "import os\n",
    "os.makedirs('../models', exist_ok=True)\n",
    "os.makedirs('../reports', exist_ok=True)\n",
    "\n",
    "# Save best model\n",
    "model_filename = f\"../models/best_model_{best_model_name.lower().replace(' ', '_')}.joblib\"\n",
    "joblib.dump(best_model, model_filename)\n",
    "\n",
    "# Save comparison results\n",
    "comparison_df.to_csv('../reports/model_comparison.csv', index=False)\n",
    "\n",
    "print(\"Model Development Complete\")\n",
    "print(f\"Best model saved: {model_filename}\")\n",
    "print(f\"Results saved: ../reports/model_comparison.csv\")"
   ]
  },
  {
   "cell_type": "code",
   "execution_count": null,
   "id": "38440b16",
   "metadata": {},
   "outputs": [],
   "source": []
  }
 ],
 "metadata": {
  "kernelspec": {
   "display_name": "churn-env (3.11.9)",
   "language": "python",
   "name": "python3"
  },
  "language_info": {
   "codemirror_mode": {
    "name": "ipython",
    "version": 3
   },
   "file_extension": ".py",
   "mimetype": "text/x-python",
   "name": "python",
   "nbconvert_exporter": "python",
   "pygments_lexer": "ipython3",
   "version": "3.11.9"
  }
 },
 "nbformat": 4,
 "nbformat_minor": 5
}
